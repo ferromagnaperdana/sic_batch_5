{
  "nbformat": 4,
  "nbformat_minor": 0,
  "metadata": {
    "colab": {
      "provenance": [],
      "include_colab_link": true
    },
    "kernelspec": {
      "name": "python3",
      "display_name": "Python 3"
    },
    "language_info": {
      "name": "python"
    }
  },
  "cells": [
    {
      "cell_type": "markdown",
      "metadata": {
        "id": "view-in-github",
        "colab_type": "text"
      },
      "source": [
        "<a href=\"https://colab.research.google.com/github/ferromagnaperdana/sic_batch_5/blob/main/Week_2_Basic_Python.ipynb\" target=\"_parent\"><img src=\"https://colab.research.google.com/assets/colab-badge.svg\" alt=\"Open In Colab\"/></a>"
      ]
    },
    {
      "cell_type": "markdown",
      "source": [
        "#Example 1\n",
        "Buat sebuah program yang jika kita berikan sebuah\n",
        "\n",
        "\n",
        "Input = [800,600,400,200]\n",
        "\n",
        "\n",
        "Compared_input = [500,200,400]\n",
        "\n",
        "\n",
        "Maka akan menghasilkan output [0,0,1,1]! Usahakan tidak menggunakan list baru!\n"
      ],
      "metadata": {
        "id": "9nntc2Xn-VoE"
      }
    },
    {
      "cell_type": "code",
      "source": [
        "def compare_input(input_data, compared_input):\n",
        "  output = []\n",
        "\n",
        "  for i in input_data:\n",
        "    if i in compared_input:\n",
        "      output.append(1)\n",
        "    else:\n",
        "      output.append(0)\n",
        "  return output\n",
        "\n",
        "#untuk menerima input\n",
        "input_data = list(map(int, input(\"Masukkan input (pisahkan dengan koma): \").split(',')))\n",
        "compared_input = list(map(int, input(\"Masukkan input (pisahkan dengan koma): \").split(',')))\n",
        "\n",
        "#memanggil fungsi\n",
        "print(compare_input(input_data, compared_input))"
      ],
      "metadata": {
        "colab": {
          "base_uri": "https://localhost:8080/"
        },
        "id": "x5nLi9jZC659",
        "outputId": "49d523b0-a94e-4406-87ee-68398436ef23"
      },
      "execution_count": null,
      "outputs": [
        {
          "output_type": "stream",
          "name": "stdout",
          "text": [
            "Masukkan input (pisahkan dengan koma): 800,600,400,200\n",
            "Masukkan input (pisahkan dengan koma): 500,200,400\n",
            "[0, 0, 1, 1]\n"
          ]
        }
      ]
    },
    {
      "cell_type": "markdown",
      "source": [
        "#Challenge 1\n",
        "\n",
        "Buat sebuah program yang jika kita berikan sebuah\n",
        "\n",
        "\n",
        "Input = [100,200,300,400,500]\n",
        "\n",
        "\n",
        "Compared_input = [500,200,400]\n",
        "\n",
        "\n",
        "Maka akan menghasilkan output [100,0,300,0,0]!\n",
        "\n",
        "Usahakan tidak menggunakan list baru!\n"
      ],
      "metadata": {
        "id": "yZZ0lsms_DKY"
      }
    },
    {
      "cell_type": "code",
      "source": [
        "def compare_input(input_data, compared_input):\n",
        "  output = []\n",
        "\n",
        "  for i in input_data:\n",
        "    if i not in compared_input:\n",
        "      output.append(i)\n",
        "    else:\n",
        "      output.append(0)\n",
        "  return output\n",
        "\n",
        "#untuk menerima input\n",
        "input_data = list(map(int, input(\"Masukkan input (pisahkan dengan koma): \").split(',')))\n",
        "compared_input = list(map(int, input(\"Masukkan input (pisahkan dengan koma): \").split(',')))\n",
        "\n",
        "#memanggil fungsi\n",
        "print(compare_input(input_data, compared_input))"
      ],
      "metadata": {
        "colab": {
          "base_uri": "https://localhost:8080/"
        },
        "id": "QoC8rfaKHRIW",
        "outputId": "e68f8c0b-dc07-46df-d9fc-fd2658e5bf2f"
      },
      "execution_count": null,
      "outputs": [
        {
          "output_type": "stream",
          "name": "stdout",
          "text": [
            "Masukkan input (pisahkan dengan koma): 100,200,300,400,500\n",
            "Masukkan input (pisahkan dengan koma): 500,200,400\n",
            "[100, 0, 300, 0, 0]\n"
          ]
        }
      ]
    },
    {
      "cell_type": "code",
      "source": [
        "def compare_input(input_data, compared_input):\n",
        "    output = []\n",
        "\n",
        "    for item in input_data:\n",
        "        if item in compared_input:\n",
        "            output.append(0)\n",
        "        else:\n",
        "            output.append(item)\n",
        "\n",
        "    return output\n",
        "\n",
        "# Menerima input dari pengguna\n",
        "input_data = list(map(int, input(\"Masukkan input (pisahkan dengan koma): \").split(',')))\n",
        "compared_input = list(map(int, input(\"Masukkan compared_input (pisahkan dengan koma): \").split(',')))\n",
        "\n",
        "# Memanggil fungsi compare_input dan mencetak outputnya\n",
        "print(compare_input(input_data, compared_input))"
      ],
      "metadata": {
        "colab": {
          "base_uri": "https://localhost:8080/"
        },
        "id": "FL1qHKN-Kl12",
        "outputId": "cd798457-136d-4f14-816b-c1cc065b0868"
      },
      "execution_count": null,
      "outputs": [
        {
          "output_type": "stream",
          "name": "stdout",
          "text": [
            "Masukkan input (pisahkan dengan koma): 100,200,300,400,500\n",
            "Masukkan compared_input (pisahkan dengan koma): 500,200,400\n",
            "[100, 0, 300, 0, 0]\n"
          ]
        }
      ]
    },
    {
      "cell_type": "code",
      "source": [
        "input_data =[100, 200, 300, 400, 500]\n",
        "compared_data = [500, 200, 400]\n",
        "\n",
        "#Iterasi dg elemen input\n",
        "\n",
        "for i in range(len(input_data)):\n",
        "  if input_data[i] in compared_data:\n",
        "    input_data[i] = 0\n",
        "\n",
        "print(input_data)"
      ],
      "metadata": {
        "colab": {
          "base_uri": "https://localhost:8080/"
        },
        "id": "KLd_NhaOIfNk",
        "outputId": "b3063632-9305-4693-bc6d-a7f1ff591947"
      },
      "execution_count": null,
      "outputs": [
        {
          "output_type": "stream",
          "name": "stdout",
          "text": [
            "[100, 0, 300, 0, 0]\n"
          ]
        }
      ]
    },
    {
      "cell_type": "markdown",
      "source": [
        "#Example 2\n",
        "\n",
        "Buat sebuah program dimana jika input yang diberikan adalah\n",
        "\n",
        "\n",
        "Input = [\n",
        "    {‘nama’: 'Budi',’nilai’: 90},\n",
        "    {'nama': 'Dwi', ‘nilai’: 85},\n",
        "    {'nama': 'Tri', ‘nilai’:75},\n",
        "]\n",
        "\n",
        "\n",
        "Output = {\n",
        "“nilai_tertinggi”: “Budi”,\n",
        "“nilai_terendah”: “Tri”\n",
        "}"
      ],
      "metadata": {
        "id": "5NMHXl54_2vY"
      }
    },
    {
      "cell_type": "code",
      "source": [
        "def nilai_tertinggi_terendah(data):\n",
        "  nilai_tertinggi = max(data, key=lambda x: x['nilai'])['nama']\n",
        "  nilai_terendah = min(data, key=lambda x: x['nilai'])['nama']\n",
        "  return {'nilai_tertinggi' : nilai_tertinggi, 'nilai_terendah' : nilai_terendah}\n",
        "\n",
        "#input data\n",
        "input_data = [\n",
        "    {'nama': 'Budi', 'nilai': 90},\n",
        "    {'nama': 'Dwi', 'nilai': 85},\n",
        "    {'nama': 'Tri', 'nilai': 75}\n",
        "]\n",
        "\n",
        "#panggil fungsi\n",
        "output = nilai_tertinggi_terendah(input_data)\n",
        "print(output)"
      ],
      "metadata": {
        "colab": {
          "base_uri": "https://localhost:8080/"
        },
        "id": "9xlEAX-bMkgS",
        "outputId": "42ff6483-9bf0-41fc-c1bf-e4163cbed772"
      },
      "execution_count": null,
      "outputs": [
        {
          "output_type": "stream",
          "name": "stdout",
          "text": [
            "{'nilai_tertinggi': 'Budi', 'nilai_terendah': 'Tri'}\n"
          ]
        }
      ]
    },
    {
      "cell_type": "markdown",
      "source": [
        "#Challenge 2!\n",
        "\n",
        "Buat sebuah program dimana jika input yang diberikan adalah\n",
        "\n",
        "\n",
        "Input = [\n",
        "    {'nama': 'Budi','gaji': 5000},\n",
        "    {'nama': 'Dwi', 'gaji': 8000},\n",
        "    {'nama': 'Joko', 'gaji': 6000}\n",
        "]\n",
        "\n",
        "\n",
        "Output = {\n",
        "“highest_salary”: “Dwi”,\n",
        "“total_salary”: 19000\n",
        "}\n",
        "\n",
        "\n"
      ],
      "metadata": {
        "id": "2wUaYzVvAOiB"
      }
    },
    {
      "cell_type": "code",
      "source": [
        "#double dictionary\n",
        "data = {\n",
        "    'toko1': {'barang1' : 1000, 'barang2': 2000},\n",
        "    'toko2': {'barang1' : 1500, 'barang2': 2500}\n",
        "}\n",
        "\n",
        "#akses\n",
        "print('harga barang1 di toko1: ', data['toko1']['barang1'])"
      ],
      "metadata": {
        "colab": {
          "base_uri": "https://localhost:8080/"
        },
        "id": "IYbsZHisPIA9",
        "outputId": "fee594c8-a005-4384-9ad1-893da971cccc"
      },
      "execution_count": null,
      "outputs": [
        {
          "output_type": "stream",
          "name": "stdout",
          "text": [
            "harga barang1 di toko1:  1000\n"
          ]
        }
      ]
    },
    {
      "cell_type": "code",
      "source": [
        "#Raymond\n",
        "data = [\n",
        "    {'nama': \"budi\", 'gaji':5000},\n",
        "    {'nama': 'Dwi', 'gaji': 8000},\n",
        "    {'nama': 'Joko', 'gaji': 6000}\n",
        "]\n",
        "\n",
        "def hitung_gaji(data):\n",
        "\n",
        "    sum_gaji = 0\n",
        "    gaji_tertinggi = 0\n",
        "    nama = \"\"\n",
        "\n",
        "    for i in data:\n",
        "        sum_gaji += i['gaji']\n",
        "        if i['gaji'] > gaji_tertinggi:\n",
        "            gaji_tertinggi = i['gaji']\n",
        "            nama = i['nama']\n",
        "\n",
        "    # output dr dict\n",
        "    output = {\n",
        "        \"gaji tertinggi\": nama,\n",
        "        \"total gaji seluruhnya\": sum_gaji\n",
        "    }\n",
        "\n",
        "    return output\n",
        "\n",
        "print (hitung_gaji(data))"
      ],
      "metadata": {
        "colab": {
          "base_uri": "https://localhost:8080/"
        },
        "id": "IYUG6A2pRu6g",
        "outputId": "70ec93bd-56db-4128-a536-c4a537244333"
      },
      "execution_count": null,
      "outputs": [
        {
          "output_type": "stream",
          "name": "stdout",
          "text": [
            "{'gaji tertinggi': 'Dwi', 'total gaji seluruhnya': 19000}\n"
          ]
        }
      ]
    },
    {
      "cell_type": "code",
      "source": [
        "#Ali\n",
        "Input = [\n",
        "    {'nama': 'Budi', 'gaji': 5000},\n",
        "    {'nama': 'Dwi', 'gaji': 8000},\n",
        "    {'nama': 'Joko', 'gaji': 6000}\n",
        "]\n",
        "\n",
        "highest_salary = max(Input, key=lambda x: x['gaji'])['nama']\n",
        "total_salary = sum(employee['gaji'] for employee in Input)\n",
        "\n",
        "Output = {\n",
        "    \"highest_salary\": highest_salary,\n",
        "    \"total_salary\": total_salary\n",
        "}\n",
        "\n",
        "print(Output)"
      ],
      "metadata": {
        "colab": {
          "base_uri": "https://localhost:8080/"
        },
        "id": "gaUYnRfdSJkn",
        "outputId": "ef3a89e4-5a58-44c3-c29e-07deaba7d70f"
      },
      "execution_count": null,
      "outputs": [
        {
          "output_type": "stream",
          "name": "stdout",
          "text": [
            "{'highest_salary': 'Dwi', 'total_salary': 19000}\n"
          ]
        }
      ]
    },
    {
      "cell_type": "markdown",
      "source": [
        "#Example3!\n",
        "\n",
        "Buat sebuah program dimana jika input yang diberikan adalah\n",
        "\n",
        "Input 1\n",
        "\n",
        "data_toko = {\n",
        "    \"Indoramet\":{\n",
        "        \"Ayam\": 30000,\n",
        "        \"Sayur\": 15000,\n",
        "        \"Buah\": 20000,\n",
        "        \"Ikan\": 22000\n",
        "    }\n",
        "}\n",
        "\n",
        "Input 2\n",
        "\n",
        "items_to_buy = {\n",
        "    \"Ayam\":2,\n",
        "    \"Sayur\":1,\n",
        "    \"Ikan\":1\n",
        "}\n",
        "\n",
        "\n",
        "Output = 97000\n",
        "\n",
        "Rincian\n",
        "Ayam : 2 * 30.000 = 60.000\n",
        "Sayur : 1 * 15.000 = 15.000\n",
        "Ikan : 1 * 22.000 = 22.000\n",
        "\n",
        "\n",
        "\n",
        "\n",
        "\n",
        "\n",
        "\n"
      ],
      "metadata": {
        "id": "CKRmHoCJAqXC"
      }
    },
    {
      "cell_type": "code",
      "source": [
        "def total_belanja(data_toko,to_buy):\n",
        "  total_cost=0\n",
        "\n",
        "  for item, quantity in items_to_buy.items():\n",
        "    if item in data_toko:\n",
        "      total_cost += data_toko[item] * quantity\n",
        "  return total_cost\n",
        "\n",
        "#data\n",
        "\n",
        "data_toko = {\n",
        "    \"Indomaret\" : {\n",
        "        \"Ayam\": 30000,\n",
        "        \"Sayur\": 15000,\n",
        "        \"Buah\": 20000,\n",
        "        \"Ikan\": 22000\n",
        "    }\n",
        "}\n",
        "\n",
        "items_to_buy = {\n",
        "    \"Ayam\": 2,\n",
        "    \"Sayur\": 1,\n",
        "    \"Ikan\": 1\n",
        "}\n",
        "\n",
        "#total belanja\n",
        "total_cost = total_belanja(data_toko[\"Indomaret\"], items_to_buy)\n",
        "\n",
        "#cetak hasil\n",
        "print(\"Output = \", total_cost)"
      ],
      "metadata": {
        "colab": {
          "base_uri": "https://localhost:8080/"
        },
        "id": "GWssuvlHSvxF",
        "outputId": "2556169c-7838-43b2-f78b-04879695c03d"
      },
      "execution_count": null,
      "outputs": [
        {
          "output_type": "stream",
          "name": "stdout",
          "text": [
            "Output =  97000\n"
          ]
        }
      ]
    },
    {
      "cell_type": "markdown",
      "source": [
        "#Challenge 3!\n",
        "\n",
        "Buat sebuah program dimana jika input yang diberikan adalah\n",
        "\n",
        "Hint: Cari harga termurah untuk setiap item antara 2 toko tersebut\n",
        "\n",
        "Input 1\n",
        "\n",
        "input = {\n",
        "    \"Indoramet\":{\n",
        "        \"Ayam\": 30000,\n",
        "        \"Sayur\": 15000,\n",
        "        \"Buah\": 20000,\n",
        "        \"Ikan\": 22000\n",
        "    },\n",
        "    \"Alfaramet\":{\n",
        "        \"Ayam\": 25000,\n",
        "        \"Sayur\": 12000,\n",
        "        \"Buah\": 30000,\n",
        "        \"Ikan\": 25000\n",
        "    }\n",
        "}\n",
        "\n",
        "\n",
        "Input 2\n",
        "\n",
        "items_to_buy = {\n",
        "    \"Ayam\":2,\n",
        "    \"Sayur\":1,\n",
        "    \"Ikan\":1\n",
        "}\n",
        "\n",
        "\n",
        "Output = 84000\n",
        "\n",
        "Rincian\n",
        "Ayam : 2 * 25.000 = 50.000\n",
        "Sayur : 1 * 12.000 = 12.000\n",
        "Ikan : 1 * 22.000 = 22.000\n",
        "\n",
        "\n"
      ],
      "metadata": {
        "id": "EqaBOqlnB7dx"
      }
    },
    {
      "cell_type": "code",
      "source": [
        "def calculate_total_cost(input_data, items_to_buy):\n",
        "    total_cost = 0\n",
        "\n",
        "    for item, quantity in items_to_buy.items():\n",
        "        min_price = float('inf')\n",
        "        for store, prices in input_data.items():\n",
        "            if item in prices:\n",
        "                min_price = min(min_price, prices[item])\n",
        "        total_cost += min_price * quantity\n",
        "\n",
        "    return total_cost\n",
        "\n",
        "# Data toko dan barang yang akan dibeli\n",
        "input_data = {\n",
        "    \"Indoramet\": {\n",
        "        \"Ayam\": 30000,\n",
        "        \"Sayur\": 15000,\n",
        "        \"Buah\": 20000,\n",
        "        \"Ikan\": 22000\n",
        "    },\n",
        "    \"Alfaramet\": {\n",
        "        \"Ayam\": 25000,\n",
        "        \"Sayur\": 12000,\n",
        "        \"Buah\": 30000,\n",
        "        \"Ikan\": 25000\n",
        "    }\n",
        "}\n",
        "\n",
        "items_to_buy = {\n",
        "    \"Ayam\": 2,\n",
        "    \"Sayur\": 1,\n",
        "    \"Ikan\": 1\n",
        "}\n",
        "\n",
        "# Menghitung total biaya belanja\n",
        "total_cost = calculate_total_cost(input_data, items_to_buy)\n",
        "\n",
        "# Mencetak output\n",
        "print(\"Output =\", total_cost)"
      ],
      "metadata": {
        "colab": {
          "base_uri": "https://localhost:8080/"
        },
        "id": "BfRBkm6ZXGmz",
        "outputId": "2350500f-2ba8-4fa2-8c06-a98ce100097e"
      },
      "execution_count": null,
      "outputs": [
        {
          "output_type": "stream",
          "name": "stdout",
          "text": [
            "Output = 84000\n"
          ]
        }
      ]
    },
    {
      "cell_type": "code",
      "source": [
        "def total_harga_termurah(input_data, items_to_buy):\n",
        "    total_harga = 0\n",
        "\n",
        "    for item, qty in items_to_buy.items():\n",
        "        harga_termurah = min(input_data[\"Indoramet\"][item], input_data[\"Alfaramet\"][item])\n",
        "        total_harga += harga_termurah * qty\n",
        "\n",
        "    return total_harga\n",
        "\n",
        "input_data = {\n",
        "    \"Indoramet\": {\n",
        "        \"Ayam\": 30000,\n",
        "        \"Sayur\": 15000,\n",
        "        \"Buah\": 20000,\n",
        "        \"Ikan\": 22000\n",
        "    },\n",
        "    \"Alfaramet\": {\n",
        "        \"Ayam\": 25000,\n",
        "        \"Sayur\": 12000,\n",
        "        \"Buah\": 30000,\n",
        "        \"Ikan\": 25000\n",
        "    }\n",
        "}\n",
        "\n",
        "items_to_buy = {\n",
        "    \"Ayam\": 2,\n",
        "    \"Sayur\": 1,\n",
        "    \"Ikan\": 1\n",
        "}\n",
        "\n",
        "total = total_harga_termurah(input_data, items_to_buy)\n",
        "print(\"Output =\", total)"
      ],
      "metadata": {
        "colab": {
          "base_uri": "https://localhost:8080/"
        },
        "id": "lWncYcVvYeh8",
        "outputId": "27c5a6b7-db2a-49a3-f9da-78cd543a583d"
      },
      "execution_count": null,
      "outputs": [
        {
          "output_type": "stream",
          "name": "stdout",
          "text": [
            "Output = 84000\n"
          ]
        }
      ]
    },
    {
      "cell_type": "code",
      "source": [
        "# Input data\n",
        "input_data = {\n",
        "    \"Indoramet\": {\n",
        "        \"Ayam\": 30000,\n",
        "        \"Sayur\": 15000,\n",
        "        \"Buah\": 20000,\n",
        "        \"Ikan\": 22000\n",
        "    },\n",
        "    \"Alfaramet\": {\n",
        "        \"Ayam\": 25000,\n",
        "        \"Sayur\": 12000,\n",
        "        \"Buah\": 30000,\n",
        "        \"Ikan\": 25000\n",
        "    }\n",
        "}\n",
        "\n",
        "items_to_buy = {\n",
        "    \"Ayam\": 2,\n",
        "    \"Sayur\": 1,\n",
        "    \"Ikan\": 1\n",
        "}\n",
        "\n",
        "# Calculate the total cost\n",
        "total_cost = find_cheapest_prices(input_data, items_to_buy)\n",
        "\n",
        "# Print the output\n",
        "print(\"Output =\", total_cost)"
      ],
      "metadata": {
        "colab": {
          "base_uri": "https://localhost:8080/",
          "height": 211
        },
        "id": "XE_vWLbtYko0",
        "outputId": "2459deaf-d4b7-4082-a95a-443b7b6b3be8"
      },
      "execution_count": null,
      "outputs": [
        {
          "output_type": "error",
          "ename": "NameError",
          "evalue": "name 'find_cheapest_prices' is not defined",
          "traceback": [
            "\u001b[0;31m---------------------------------------------------------------------------\u001b[0m",
            "\u001b[0;31mNameError\u001b[0m                                 Traceback (most recent call last)",
            "\u001b[0;32m<ipython-input-19-41168c9a7cd7>\u001b[0m in \u001b[0;36m<cell line: 24>\u001b[0;34m()\u001b[0m\n\u001b[1;32m     22\u001b[0m \u001b[0;34m\u001b[0m\u001b[0m\n\u001b[1;32m     23\u001b[0m \u001b[0;31m# Calculate the total cost\u001b[0m\u001b[0;34m\u001b[0m\u001b[0;34m\u001b[0m\u001b[0m\n\u001b[0;32m---> 24\u001b[0;31m \u001b[0mtotal_cost\u001b[0m \u001b[0;34m=\u001b[0m \u001b[0mfind_cheapest_prices\u001b[0m\u001b[0;34m(\u001b[0m\u001b[0minput_data\u001b[0m\u001b[0;34m,\u001b[0m \u001b[0mitems_to_buy\u001b[0m\u001b[0;34m)\u001b[0m\u001b[0;34m\u001b[0m\u001b[0;34m\u001b[0m\u001b[0m\n\u001b[0m\u001b[1;32m     25\u001b[0m \u001b[0;34m\u001b[0m\u001b[0m\n\u001b[1;32m     26\u001b[0m \u001b[0;31m# Print the output\u001b[0m\u001b[0;34m\u001b[0m\u001b[0;34m\u001b[0m\u001b[0m\n",
            "\u001b[0;31mNameError\u001b[0m: name 'find_cheapest_prices' is not defined"
          ]
        }
      ]
    },
    {
      "cell_type": "code",
      "source": [
        "# Online Python compiler (interpreter) to run Python online.\n",
        "# Write Python 3 code in this online editor and run it.\n",
        "input_data = {\n",
        "    \"Indoramet\": {\n",
        "        \"Ayam\": 30000,\n",
        "        \"Sayur\": 15000,\n",
        "        \"Buah\": 20000,\n",
        "        \"Ikan\": 22000\n",
        "    },\n",
        "    \"Alfaramet\": {\n",
        "        \"Ayam\": 25000,\n",
        "        \"Sayur\": 12000,\n",
        "        \"Buah\": 30000,\n",
        "        \"Ikan\": 25000\n",
        "    }\n",
        "}\n",
        "\n",
        "items_to_buy = {\n",
        "    \"Ayam\": 2,\n",
        "    \"Sayur\": 1,\n",
        "    \"Ikan\": 1\n",
        "}\n",
        "\n",
        "def calculate_cheapest_price(input_data, items_to_buy):\n",
        "    total_price = 0\n",
        "\n",
        "    for item, quantity in items_to_buy.items():\n",
        "        cheapest_price = min(input_data[toko][item] for toko in input_data)\n",
        "        total_price += cheapest_price * quantity\n",
        "\n",
        "    return total_price\n",
        "\n",
        "output = calculate_cheapest_price(input_data, items_to_buy)\n",
        "print(output)"
      ],
      "metadata": {
        "colab": {
          "base_uri": "https://localhost:8080/"
        },
        "id": "v8CkdWIDYpAg",
        "outputId": "d1696de7-f3e2-4f6c-945d-910e43aefc82"
      },
      "execution_count": null,
      "outputs": [
        {
          "output_type": "stream",
          "name": "stdout",
          "text": [
            "84000\n"
          ]
        }
      ]
    }
  ]
}